{
 "cells": [
  {
   "cell_type": "markdown",
   "metadata": {},
   "source": [
    "# CS202: Compiler Construction\n",
    "\n",
    "## In-class Exercises, Week of 03/20/2023\n",
    "\n",
    "----"
   ]
  },
  {
   "cell_type": "markdown",
   "metadata": {},
   "source": [
    "# Part 1: While Loops"
   ]
  },
  {
   "cell_type": "markdown",
   "metadata": {},
   "source": [
    "## Question 1\n",
    "\n",
    "Compile the following program to $\\mathcal{C}_{if}$:\n",
    "\n",
    "```\n",
    "i = 10\n",
    "sum = 0\n",
    "while i > 0:\n",
    "    i = i - 1\n",
    "    sum = sum + i\n",
    "print(sum)\n",
    "```"
   ]
  },
  {
   "cell_type": "markdown",
   "metadata": {},
   "source": [
    "Output of RCO:\n",
    "```\n",
    "i = 10\n",
    "sum = 0\n",
    "tmp_1 = i > 0\n",
    "while tmp_1:\n",
    "    (compilet statements here)\n",
    "```\n",
    "(this means we'll need to do something special in rco)\n",
    "\n",
    "CIF version:\n",
    "```\n",
    "start:\n",
    "    i = 10\n",
    "    sum = 0\n",
    "    tmp_1 = i > 0\n",
    "    goto while_test\n",
    "while_test:\n",
    "    if tmp_1 then goto while_body else goto cont\n",
    "while_body:\n",
    "    i = i - 1\n",
    "    sum = sum + i\n",
    "    goto while_test\n",
    "cont:\n",
    "    print(sum)\n",
    "```"
   ]
  },
  {
   "cell_type": "markdown",
   "metadata": {},
   "source": [
    "## Question 2\n",
    "\n",
    "Compile the program above into pseudo-x86 assembly."
   ]
  },
  {
   "cell_type": "markdown",
   "metadata": {},
   "source": [
    "```\n",
    "start:\n",
    "    movq $10, #i\n",
    "    movq $0, #sum\n",
    "    jmp while_test\n",
    "while_test:\n",
    "    cmpq $0, #i\n",
    "    jgt while_body\n",
    "    jmp cont\n",
    "while_body:\n",
    "    subq $1, #i\n",
    "    addq #i, #sum\n",
    "    jmp while_test\n",
    "cont:\n",
    "    movq #sum, %rdi\n",
    "    callq print_int\n",
    "```"
   ]
  },
  {
   "cell_type": "markdown",
   "metadata": {},
   "source": [
    "## Question 3\n",
    "\n",
    "Describe the major changes to the compiler, up to *select instructions*."
   ]
  },
  {
   "cell_type": "markdown",
   "metadata": {},
   "source": [
    "No new passes.\n",
    "\n",
    "- Typechecker\n",
    "    - Add a case for while loops\n",
    "    - Condition must be a bool\n",
    "    - Statements must be well typed\n",
    "- RCO\n",
    "    - Add case for while loops\n",
    "    - Easy part: run rco_stmts on the body statements of the loop\n",
    "    - Hard part: condition\n",
    "        - Problem: tmp vars created by rco_exp end up outside the loop\n",
    "        - Solution:\n",
    "            - Construct new bindings just for tmp vars associated with the condition\n",
    "            - Package up resulting Assign statements into a Begin expression\n",
    "                - cond_bindings = {}\n",
    "                - new_cond_exp = rco_exp(cond, cond_bindings)\n",
    "                - create a begin node with list of assignment statements for everything in `cond_bindings`, and the expression `new_cond_exp`\n",
    "- Explicate-control\n",
    "    - new case: While(Begin(cond_stmts, cond_exp), body_stmts)\n",
    "    - creat a loop shaped control flow graph\n",
    "        - cont_label = use `create_block` to add `cont` to the CFG\n",
    "        - test_label = gensym('loop_label')\n",
    "        - body_label = use `create_block` to add the result of compiling `body_stmts` to the CFG (liek the `then` case for if). Continuation should be `[cif.Goto(test_label)]`\n",
    "        - compile the test:\n",
    "            - let the cont be `[cif.If(explicate_exp(cond_exp, cif.Goto(body_label), cif.Goto(cond_label)))]`\n",
    "            - compile cond_stmts with this continuation\n",
    "            - `basic_blocks[test_label] = ` result from above\n",
    "        - return the new continuatin: `[cif.Goto(test_label)]`\n",
    "- Select-instructions: no changes"
   ]
  },
  {
   "cell_type": "markdown",
   "metadata": {},
   "source": [
    "# Part 2: Dataflow Analysis"
   ]
  },
  {
   "cell_type": "markdown",
   "metadata": {},
   "source": [
    "## Question 4\n",
    "\n",
    "Perform liveness analysis on the pseudo-x86 program from Question 2."
   ]
  },
  {
   "cell_type": "markdown",
   "metadata": {},
   "source": [
    "Use approach from A3: When we find a jmp, go do the liveness analysis on the target to get its live before set\n",
    "\n",
    "```\n",
    "start:\n",
    "    movq $10, #i {}\n",
    "    movq $0, #sum {}\n",
    "    jmp while_test {}\n",
    "while_test: {}\n",
    "    cmpq $0, #i {}\n",
    "    jgt while_body {sum}\n",
    "    jmp cont {}\n",
    "while_body: {}\n",
    "    subq $1, #i {}\n",
    "    addq #i, #sum {}\n",
    "    jmp while_test {}\n",
    "cont:              {sum}\n",
    "    movq #sum, %rdi {}\n",
    "    callq print_int {}\n",
    "```\n",
    "\n",
    "Problem: to compute the live before of while_body, we need the live before of while_test; to compute live before of while_test, we need hte live before of while_body. infinite loop"
   ]
  },
  {
   "cell_type": "markdown",
   "metadata": {},
   "source": [
    "## Question 5\n",
    "\n",
    "Describe the idea of dataflow analysis on cyclic control-flow graphs."
   ]
  },
  {
   "cell_type": "markdown",
   "metadata": {},
   "source": [
    "1. compute the live-after sets for each block without worrying about jmps(assume all live-before sets are empty). This is an **underapproximation** of the true live-after sets.\n",
    "2. Update the live-before sets based on the results from #1\n",
    "3. Run #1 until the live-after sets don't change at all. This is called a **fixpoint**."
   ]
  },
  {
   "cell_type": "markdown",
   "metadata": {},
   "source": [
    "## Question 6\n",
    "\n",
    "Use the dataflow-based approach to perform liveness analysis on the pseudo-x86 program above."
   ]
  },
  {
   "cell_type": "markdown",
   "metadata": {},
   "source": [
    "```\n",
    "start:           {}\n",
    "    movq $10, #i {i}\n",
    "    movq $0, #sum {i, sum}\n",
    "    jmp while_test {}\n",
    "while_test:    {i, sum}\n",
    "    cmpq $0, #i {i, sum}\n",
    "    jgt while_body {sum}\n",
    "    jmp cont {}\n",
    "while_body:   {i, sum}\n",
    "    subq $1, #i {i, sum}\n",
    "    addq #i, #sum {i, sum}\n",
    "    jmp while_test {}\n",
    "cont:              {sum}\n",
    "    movq #sum, %rdi {}\n",
    "    callq print_int {}\n",
    "```\n",
    "\n",
    "Fter 4 iterations nothing changes, so done\n",
    "\n",
    "Changeto the liveness analysis in the compiler:\n",
    "- add a ul_fixpoint function\n",
    "- while loop:\n",
    "    - make a copy of the current live after sets\n",
    "    - run ul_block on each block of teh program\n",
    "    - exit while loop if the live after sets are the same as the copy\n",
    "    \n",
    "- initialize the live before sets to be empty for *all* blocks\n",
    "- remove call to ul_block in the jmp case"
   ]
  },
  {
   "cell_type": "markdown",
   "metadata": {},
   "source": [
    "## Question 7\n",
    "\n",
    "How do we know the dataflow analysis will stop (i.e. not loop forever)?"
   ]
  },
  {
   "cell_type": "markdown",
   "metadata": {},
   "source": [
    "Two big questions:\n",
    "- What is the live-after sets keep changing? Then ul_fixpoint runs forever\n",
    "    - There are finitely many variables in the program, and finitely many blocks\n",
    "    - In the worst case, every variable ends up in every live-after set\n",
    "    - At that point, there is nothing we can add to any set, so the state can't possibly change if we run the analysis again\n",
    "- We initialize live-befores *wrong*, so how do we know the final answer will be correct?\n",
    "    - Imagine if we knew the correct live-before set of each label\n",
    "    - Then we could run liveness analysis on the blocks in any order, and get the right answer\n",
    "    - Imagine that some live-before set is missing a variable that should be there\n",
    "    - Because all other live-before sets are correct, the next iteration of liveness analysis will fill in that missing variable of tha live-before set"
   ]
  },
  {
   "cell_type": "markdown",
   "metadata": {},
   "source": [
    "## Question 8\n",
    "\n",
    "What changes are required for the rest of the compiler?"
   ]
  },
  {
   "cell_type": "markdown",
   "metadata": {},
   "source": []
  },
  {
   "cell_type": "code",
   "execution_count": null,
   "metadata": {},
   "outputs": [],
   "source": []
  }
 ],
 "metadata": {
  "kernelspec": {
   "display_name": "Python 3 (ipykernel)",
   "language": "python",
   "name": "python3"
  },
  "language_info": {
   "codemirror_mode": {
    "name": "ipython",
    "version": 3
   },
   "file_extension": ".py",
   "mimetype": "text/x-python",
   "name": "python",
   "nbconvert_exporter": "python",
   "pygments_lexer": "ipython3",
   "version": "3.10.9"
  }
 },
 "nbformat": 4,
 "nbformat_minor": 4
}
