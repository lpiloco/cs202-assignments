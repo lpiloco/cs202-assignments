{
 "cells": [
  {
   "cell_type": "markdown",
   "metadata": {},
   "source": [
    "# CS202: Compiler Construction\n",
    "\n",
    "## In-class Exercises, Week of 02/27/2023\n",
    "\n",
    "----"
   ]
  },
  {
   "cell_type": "markdown",
   "metadata": {},
   "source": [
    "# RCO"
   ]
  },
  {
   "cell_type": "markdown",
   "metadata": {},
   "source": [
    "## Question 1\n",
    "\n",
    "How do we handle `if` statements in rco?"
   ]
  },
  {
   "cell_type": "markdown",
   "metadata": {},
   "source": [
    "We don't have to do much at all\n",
    "\n",
    "if is not an operator, it's arguments don't need to be atomic\n",
    "- call rco_exp on the condition\n",
    "- call rco_exp on the then and sles statements"
   ]
  },
  {
   "cell_type": "markdown",
   "metadata": {},
   "source": [
    "----"
   ]
  },
  {
   "cell_type": "markdown",
   "metadata": {},
   "source": [
    "# Explicate-Control"
   ]
  },
  {
   "cell_type": "markdown",
   "metadata": {},
   "source": [
    "## Question 2\n",
    "\n",
    "Describe the idea behind the explicate-control pass."
   ]
  },
  {
   "cell_type": "markdown",
   "metadata": {},
   "source": [
    "The pass is designed to compile if statements into a control flow graph(goto/jumps; no structural if statements)\n",
    "\n",
    "The output is in an intermediate language called Cif.\n",
    "- Similar to Python in most respects (expressions and statements)\n",
    "- Different\n",
    "    - If statements must have gotos in then and else\n",
    "    - Program is represented by a dict mapping labels to lists of statements (a control flow graph)\n",
    "    \n",
    "Four pieces to considerwhen compiling an if statement:\n",
    "- the condition\n",
    "- the then branch (statements)\n",
    "- the else branch (statements)\n",
    "- the \"rest of the stuff to do\" after the if statement is done\n",
    "    - this is called the *continuation*\n",
    "    \n",
    "We will process statements backwards, so we always have a compiled version of the continuation."
   ]
  },
  {
   "cell_type": "markdown",
   "metadata": {},
   "source": [
    "## Question 3\n",
    "\n",
    "Compile this program into a $C_{if}$ program, describing the input and output of explicate-control.\n",
    "\n",
    "```\n",
    "if 5 == 6:\n",
    "    print(1)\n",
    "else:\n",
    "    print(0)\n",
    "```"
   ]
  },
  {
   "cell_type": "markdown",
   "metadata": {},
   "source": [
    "```\n",
    "label_2:\n",
    "    return 0\n",
    "label_3:\n",
    "    print(1)\n",
    "    goto label_2\n",
    "label_4:\n",
    "    print(0)\n",
    "    goto label_2\n",
    "start:\n",
    "    tmp_1 = eq(5, 6)\n",
    "    if tmp_1: goto label_3 else: goto label_4\n",
    "```"
   ]
  },
  {
   "cell_type": "markdown",
   "metadata": {},
   "source": [
    "## Question 4\n",
    "\n",
    "Describe the structure of `explicate_control`."
   ]
  },
  {
   "cell_type": "markdown",
   "metadata": {},
   "source": [
    "Start by following the grammar\n",
    "- `ec_atm` compiles an atomic expressin into a Cif atom\n",
    "    - Constants => cif.Constant\n",
    "    - Var => cif.Var\n",
    "- `ec_expr` cmpiles an expression into a Cif expression\n",
    "    - Prim(op, args) => cif.Prin(op, args)\n",
    "    - else call ec_atm\n",
    "- `ec_stmt` taes a stmt and a continuation, returns list of Cif statements\n",
    "    - Assign(x, e) => [cif.Assign(x, ec_expr(e))] + continuation\n",
    "    - Print(e) => [cif.Print(ec_expr(e))] + continuation\n",
    "    - If(condition, then_stmts, else_stmts) => \n",
    "        - cond_label = create block for continuation\n",
    "        - then_label = create block for ec_stmts(then_stmts, [cif.Goto(cond_label)])\n",
    "        - else_label = create block for ec_stmts(else_stmts, [cif.Goto(cond_label)])\n",
    "        - return [cif.If(ec_expr(condition), cif.Goto(the_label), cif.Goto(else_label))]\n",
    "- `ec_stmts` takes a list of statements and a continuation, returns a list of Cif statements\n",
    "    - process the list of statements in reverse\n",
    "    - update \"current continuation\" by calling sc_stmt n each stmt and setting the continuation to whatever comes back\n",
    "- the main body of the pass\n",
    "    - start with the coontinuation: [cif.Return(0)]\n",
    "    - call ec_stmts on the statements of the program\n",
    "    - set basic_blocks['start'] to the result\n",
    "- pass should have a \"global\" basic_blocks: Dict[str, List[cif.Stmt]]\n",
    "- pass should have a `create_block` function that adds a new block to basic_blocks with a unique name (using gensym)\n",
    "    "
   ]
  },
  {
   "cell_type": "markdown",
   "metadata": {},
   "source": [
    "# Select Instructions"
   ]
  },
  {
   "cell_type": "markdown",
   "metadata": {},
   "source": [
    "## Question 5\n",
    "\n",
    "Describe the new cases in `select_instructions`."
   ]
  },
  {
   "cell_type": "markdown",
   "metadata": {},
   "source": [
    "- Mostly compy paste\n",
    "- Comparison case is really interesting\n",
    "\n",
    "New cases:\n",
    "- `Assign(x, Prim(op, [a1, a2]))` and `op` is a comparison primitive:\n",
    "    - compile to three instructions:\n",
    "        - cmpq a2, a1 (compares a1 to a2, sets EFLAGS register)\n",
    "        - set[cc] %al (sets byte register %al to the value of EFLAGS)\n",
    "            - cc is the condition code for the desired comparison operation\n",
    "            - eq:e, gt:g, gte: ge, lt: l, lte: le\n",
    "        - movxbq %al, #x (moves byte register into a 64-bit location)\n",
    "- `If(condition, Goto(label1), Goto(label2))`\n",
    "    - cmpq condition, `$1`\n",
    "    - je label1\n",
    "    - jmp label2\n",
    "- `Assign(x, Prim('not', [a1]))`\n",
    "    - movq a1, #x\n",
    "    - xorq $1, #x\n",
    "- `Return(a1)`\n",
    "    - movq a1, %rax\n",
    "    - jmp conclusion\n",
    "- `Goto(label)` => jmp label"
   ]
  },
  {
   "cell_type": "markdown",
   "metadata": {},
   "source": [
    "----"
   ]
  },
  {
   "cell_type": "markdown",
   "metadata": {},
   "source": [
    "# Register Allocation"
   ]
  },
  {
   "cell_type": "markdown",
   "metadata": {},
   "source": [
    "## Question 6\n",
    "\n",
    "Describe the liveness analysis for a control-flow graph."
   ]
  },
  {
   "cell_type": "markdown",
   "metadata": {},
   "source": [
    "- Challenge: now I have many blocks, and jumps between them; a variable might be read in a block I'm jumping to, and so it better remain live \"across\" the jump\n",
    "- This means I can't consider each block in isolation, I need to look at all blocks at once \n",
    "- Treat each block as a sort of temporary variable"
   ]
  },
  {
   "cell_type": "markdown",
   "metadata": {},
   "source": [
    "## Question 7\n",
    "\n",
    "Here is an x86 assembly program. Compute its live-after sets.\n",
    "\n",
    "```\n",
    "start:\n",
    "  movq $42, #x\n",
    "  cmpq $6, $5\n",
    "  je label_2\n",
    "  jmp label_3\n",
    "label_2:\n",
    "  addq $3, #x\n",
    "  jmp conclusion\n",
    "label_3:\n",
    "  addq $4, #x\n",
    "  jmp conclusion\n",
    "```"
   ]
  },
  {
   "cell_type": "markdown",
   "metadata": {},
   "source": [
    "When I find a jump instruction, compute the live after sets for the target, and the live before set for the target, and treat the live before set as a variable read by the jump\n",
    "\n",
    "The conclusion block always have the empty live before set.\n",
    "\n",
    "```\n",
    "start:         {}\n",
    "  movq $42, #x {x}\n",
    "  cmpq $6, $5  {x}\n",
    "  je label_2   {x}\n",
    "  jmp label_3  {}\n",
    "label_2:         {x}\n",
    "  addq $3, #x    {}\n",
    "  jmp conclusion {}\n",
    "label_3:         {x}\n",
    "  addq $4, #x    {}\n",
    "  jmp conclusion {}\n",
    "```\n",
    "\n",
    "- Global dict that remembers live before sets for each block\n",
    "- Global dict that remembers list of live after sets for each block"
   ]
  },
  {
   "cell_type": "markdown",
   "metadata": {},
   "source": [
    "## Question 8\n",
    "\n",
    "Describe the change to building the interference graph."
   ]
  },
  {
   "cell_type": "markdown",
   "metadata": {},
   "source": [
    "No change"
   ]
  },
  {
   "cell_type": "markdown",
   "metadata": {},
   "source": [
    "## Question 9\n",
    "\n",
    "Describe the change to graph coloring and assigning homes."
   ]
  },
  {
   "cell_type": "markdown",
   "metadata": {},
   "source": [
    "No change"
   ]
  },
  {
   "cell_type": "markdown",
   "metadata": {},
   "source": [
    "----"
   ]
  },
  {
   "cell_type": "markdown",
   "metadata": {},
   "source": [
    "# Patch Instructions"
   ]
  },
  {
   "cell_type": "markdown",
   "metadata": {},
   "source": [
    "## Question 10\n",
    "\n",
    "Describe the changes to patch_instructions."
   ]
  },
  {
   "cell_type": "markdown",
   "metadata": {},
   "source": [
    "- basically same as a3\n",
    "- cmpq instr: cant have immediate as second instruction"
   ]
  },
  {
   "cell_type": "markdown",
   "metadata": {},
   "source": [
    "----"
   ]
  },
  {
   "cell_type": "markdown",
   "metadata": {},
   "source": [
    "# Prelude & Conclusion\n"
   ]
  },
  {
   "cell_type": "markdown",
   "metadata": {},
   "source": [
    "## Question 11\n",
    "\n",
    "Describe the changes to prelude_and_conclusion."
   ]
  },
  {
   "cell_type": "markdown",
   "metadata": {},
   "source": [
    "- almost same as a3\n",
    "- prelude code goes in `main`\n",
    "- conclusion code goes in `conclusion`"
   ]
  }
 ],
 "metadata": {
  "kernelspec": {
   "display_name": "Python 3 (ipykernel)",
   "language": "python",
   "name": "python3"
  },
  "language_info": {
   "codemirror_mode": {
    "name": "ipython",
    "version": 3
   },
   "file_extension": ".py",
   "mimetype": "text/x-python",
   "name": "python",
   "nbconvert_exporter": "python",
   "pygments_lexer": "ipython3",
   "version": "3.10.9"
  }
 },
 "nbformat": 4,
 "nbformat_minor": 4
}
